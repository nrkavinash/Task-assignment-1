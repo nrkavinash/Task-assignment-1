{
 "cells": [
  {
   "cell_type": "markdown",
   "id": "da0745fa-4f84-4bb8-9988-f4e764d59258",
   "metadata": {},
   "source": [
    "\n",
    "# Q1 ANSWER"
   ]
  },
  {
   "cell_type": "code",
   "execution_count": 10,
   "id": "b6319338-64d3-4306-a410-c16f70dd872e",
   "metadata": {},
   "outputs": [],
   "source": [
    "list1 = [1,2,3,4, [44,55,66, True], False, (34,56,78,89,34), {1,2,3,3,2,1}, {1:34, \"key2\": [55, 67, 78, 89], 4: (45,  22, 61, 34)}, [56, 'data science'], 'Machine Learning']"
   ]
  },
  {
   "cell_type": "code",
   "execution_count": 11,
   "id": "ca085366-c321-4c6c-b220-40b66c4d0408",
   "metadata": {},
   "outputs": [
    {
     "data": {
      "text/plain": [
       "[1,\n",
       " 2,\n",
       " 3,\n",
       " 4,\n",
       " [44, 55, 66, True],\n",
       " False,\n",
       " (34, 56, 78, 89, 34),\n",
       " {1, 2, 3},\n",
       " {1: 34, 'key2': [55, 67, 78, 89], 4: (45, 22, 61, 34)},\n",
       " [56, 'data science'],\n",
       " 'Machine Learning']"
      ]
     },
     "execution_count": 11,
     "metadata": {},
     "output_type": "execute_result"
    }
   ],
   "source": [
    "list1"
   ]
  },
  {
   "cell_type": "code",
   "execution_count": 12,
   "id": "72f3ecfb-1bb6-4772-80d2-ae4fcad7d74d",
   "metadata": {},
   "outputs": [],
   "source": [
    "def flattenlist(list1):  \n",
    "    flatlist = []    \n",
    "    for item in list1:  \n",
    "        if type(item) is list: \n",
    "            for element in item:  \n",
    "                flatlist.append(element)  \n",
    "        else:  \n",
    "            flatlist.append(item)  \n",
    "    return flatlist \n"
   ]
  },
  {
   "cell_type": "code",
   "execution_count": 48,
   "id": "94da2bf2-98e1-4e31-9a53-90bce940c53d",
   "metadata": {},
   "outputs": [
    {
     "name": "stdout",
     "output_type": "stream",
     "text": [
      "list2: [1, 2, 3, 4, [44, 55, 66, True], False, (34, 56, 78, 89, 34), {1, 2, 3}, {1: 34, 'key2': [55, 67, 78, 89], 4: (45, 22, 61, 34)}, [56, 'data science'], 'Machine Learning']\n",
      "Converted Flat List: None\n"
     ]
    }
   ],
   "source": [
    "nestedlist = list1 \n",
    "print('list2:', nestedlist) \n",
    "print('Converted Flat List:',flattenlist(nestedlist))"
   ]
  },
  {
   "cell_type": "code",
   "execution_count": 28,
   "id": "4a58e4b7-7c1f-4f86-b6fb-c94aa015f962",
   "metadata": {},
   "outputs": [
    {
     "name": "stdout",
     "output_type": "stream",
     "text": [
      "Converted Flat List: [1, 2, 3, 4, 44, 55, 66, True, False, (34, 56, 78, 89, 34), {1, 2, 3}, {1: 34, 'key2': [55, 67, 78, 89], 4: (45, 22, 61, 34)}, 56, 'data science', 'Machine Learning']\n"
     ]
    }
   ],
   "source": [
    "print('Converted Flat List:',flattenlist(nestedlist))"
   ]
  },
  {
   "cell_type": "code",
   "execution_count": 15,
   "id": "827ea4a4-0bc3-4d85-86ab-a5dfc1f5c73c",
   "metadata": {},
   "outputs": [
    {
     "data": {
      "text/plain": [
       "[1,\n",
       " 2,\n",
       " 3,\n",
       " 4,\n",
       " 44,\n",
       " 55,\n",
       " 66,\n",
       " True,\n",
       " False,\n",
       " (34, 56, 78, 89, 34),\n",
       " {1, 2, 3},\n",
       " {1: 34, 'key2': [55, 67, 78, 89], 4: (45, 22, 61, 34)},\n",
       " 56,\n",
       " 'data science',\n",
       " 'Machine Learning']"
      ]
     },
     "execution_count": 15,
     "metadata": {},
     "output_type": "execute_result"
    }
   ],
   "source": [
    "flattenlist(nestedlist) "
   ]
  },
  {
   "cell_type": "code",
   "execution_count": 16,
   "id": "709f51ac-4831-492a-baa3-3a77da22b39d",
   "metadata": {},
   "outputs": [],
   "source": [
    "t1=tuple(flattenlist(nestedlist))"
   ]
  },
  {
   "cell_type": "code",
   "execution_count": 17,
   "id": "2cd84dd4-3d8d-4140-bc89-d2c1bdc32611",
   "metadata": {},
   "outputs": [
    {
     "data": {
      "text/plain": [
       "(1,\n",
       " 2,\n",
       " 3,\n",
       " 4,\n",
       " 44,\n",
       " 55,\n",
       " 66,\n",
       " True,\n",
       " False,\n",
       " (34, 56, 78, 89, 34),\n",
       " {1, 2, 3},\n",
       " {1: 34, 'key2': [55, 67, 78, 89], 4: (45, 22, 61, 34)},\n",
       " 56,\n",
       " 'data science',\n",
       " 'Machine Learning')"
      ]
     },
     "execution_count": 17,
     "metadata": {},
     "output_type": "execute_result"
    }
   ],
   "source": [
    "t1"
   ]
  },
  {
   "cell_type": "code",
   "execution_count": 45,
   "id": "41a4afaa-8096-4e99-b7bf-fb9029596118",
   "metadata": {},
   "outputs": [],
   "source": [
    "Input_Sentence =\"I want to become a Data Scientist\""
   ]
  },
  {
   "cell_type": "code",
   "execution_count": 47,
   "id": "4431d6cf-84ba-4531-8d6a-ab7fc005f943",
   "metadata": {},
   "outputs": [
    {
     "data": {
      "text/plain": [
       "'I want to become a Data Scientist'"
      ]
     },
     "execution_count": 47,
     "metadata": {},
     "output_type": "execute_result"
    }
   ],
   "source": [
    "Input_Sentence"
   ]
  },
  {
   "cell_type": "code",
   "execution_count": 19,
   "id": "230cd5a6-665b-432b-aaaa-26df93fb29e4",
   "metadata": {},
   "outputs": [
    {
     "data": {
      "text/plain": [
       "(1,\n",
       " 2,\n",
       " 3,\n",
       " 4,\n",
       " 44,\n",
       " 55,\n",
       " 66,\n",
       " True,\n",
       " False,\n",
       " (34, 56, 78, 89, 34),\n",
       " {1, 2, 3},\n",
       " {1: 34, 'key2': [55, 67, 78, 89], 4: (45, 22, 61, 34)},\n",
       " 56,\n",
       " 'data science',\n",
       " 'Machine Learning')"
      ]
     },
     "execution_count": 19,
     "metadata": {},
     "output_type": "execute_result"
    }
   ],
   "source": [
    "t1"
   ]
  },
  {
   "cell_type": "code",
   "execution_count": 30,
   "id": "9a9c7c2e-9361-4972-8025-c2414e05125d",
   "metadata": {},
   "outputs": [],
   "source": [
    "def is_integer(x):\n",
    "    return not isinstance(x, bool) and isinstance(x, int)\n",
    "\n",
    "def get_numbers(o):\n",
    "    if isinstance(o, dict):\n",
    "        for k, v in o.items():\n",
    "            if is_integer(k):\n",
    "                yield k\n",
    "            yield from get_numbers(v)\n",
    "    elif isinstance(o, (list, tuple, set)):\n",
    "        for v in o:\n",
    "            if is_integer(v):\n",
    "                yield v\n",
    "            else:\n",
    "                yield from get_numbers(v)\n",
    "    else:\n",
    "        if is_integer(o):\n",
    "            yield o\n"
   ]
  },
  {
   "cell_type": "code",
   "execution_count": null,
   "id": "f2bd113d-5bcb-4417-b341-c30fba95e54a",
   "metadata": {},
   "outputs": [],
   "source": []
  },
  {
   "cell_type": "code",
   "execution_count": 41,
   "id": "2326356e-904d-4b8e-bb57-bba5bb84b0cf",
   "metadata": {},
   "outputs": [
    {
     "name": "stdout",
     "output_type": "stream",
     "text": [
      "[1, 2, 3, 4, 44, 55, 66, 34, 56, 78, 89, 34, 1, 2, 3, 1, 34, 55, 67, 78, 89, 4, 45, 22, 61, 34, 56]\n"
     ]
    }
   ],
   "source": [
    "print(list(get_numbers(list1)))"
   ]
  },
  {
   "cell_type": "code",
   "execution_count": 33,
   "id": "cc8c1fef-185d-461c-93d1-233cb9145426",
   "metadata": {},
   "outputs": [
    {
     "data": {
      "text/plain": [
       "[1,\n",
       " 2,\n",
       " 3,\n",
       " 4,\n",
       " [44, 55, 66, True],\n",
       " False,\n",
       " (34, 56, 78, 89, 34),\n",
       " {1, 2, 3},\n",
       " {1: 34, 'key2': [55, 67, 78, 89], 4: (45, 22, 61, 34)},\n",
       " [56, 'data science'],\n",
       " 'Machine Learning']"
      ]
     },
     "execution_count": 33,
     "metadata": {},
     "output_type": "execute_result"
    }
   ],
   "source": [
    "list1"
   ]
  },
  {
   "cell_type": "markdown",
   "id": "f5ebdcce-59f7-4033-857a-81099c9d89de",
   "metadata": {},
   "source": [
    "# Q2 ANSWER ENCRYPT MESSAGE"
   ]
  },
  {
   "cell_type": "code",
   "execution_count": 49,
   "id": "e54ef301-acc1-4b86-bb40-8b85e8643b0a",
   "metadata": {},
   "outputs": [],
   "source": [
    " def encrypt_message(message):\n",
    "    output = \"\"\n",
    "    for char in message:\n",
    "        if char.isalpha():\n",
    "            encrypted_char = chr(ord('a') + ord('z') - ord(char.lower()))\n",
    "            if char.isupper():\n",
    "                encrypted_char = encrypted_char.upper()\n",
    "            output += encrypted_char\n",
    "        elif char.isspace():\n",
    "            output += \"$\"\n",
    "        else:\n",
    "            output += char\n",
    "    return output"
   ]
  },
  {
   "cell_type": "code",
   "execution_count": 50,
   "id": "9c6b0956-da91-46cf-ad55-3b139710bf68",
   "metadata": {},
   "outputs": [
    {
     "data": {
      "text/plain": [
       "'R$dzmg$gl$yvxlnv$z$Wzgz$Hxrvmgrhg'"
      ]
     },
     "execution_count": 50,
     "metadata": {},
     "output_type": "execute_result"
    }
   ],
   "source": [
    "encrypt_message(\"I want to become a Data Scientist\")"
   ]
  },
  {
   "cell_type": "code",
   "execution_count": 51,
   "id": "bea2f20d-b9ed-42a9-a0a5-1c2a9706afa0",
   "metadata": {},
   "outputs": [
    {
     "data": {
      "text/plain": [
       "'zermzhs'"
      ]
     },
     "execution_count": 51,
     "metadata": {},
     "output_type": "execute_result"
    }
   ],
   "source": [
    "encrypt_message(\"avinash\")"
   ]
  },
  {
   "cell_type": "code",
   "execution_count": null,
   "id": "b9b0e548-8d75-4bb3-945c-f1d680a37e53",
   "metadata": {},
   "outputs": [],
   "source": []
  }
 ],
 "metadata": {
  "kernelspec": {
   "display_name": "Python 3 (ipykernel)",
   "language": "python",
   "name": "python3"
  },
  "language_info": {
   "codemirror_mode": {
    "name": "ipython",
    "version": 3
   },
   "file_extension": ".py",
   "mimetype": "text/x-python",
   "name": "python",
   "nbconvert_exporter": "python",
   "pygments_lexer": "ipython3",
   "version": "3.10.8"
  }
 },
 "nbformat": 4,
 "nbformat_minor": 5
}
